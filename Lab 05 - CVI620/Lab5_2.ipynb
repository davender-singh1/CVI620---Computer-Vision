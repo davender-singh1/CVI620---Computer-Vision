{
 "cells": [
  {
   "cell_type": "markdown",
   "id": "c30868a0-af1f-4fe5-8752-4574871aa36a",
   "metadata": {},
   "source": [
    "# Lab 5\n",
    "## Part 2: Line Detection\n",
    "Completed by: Liliya Panfilova"
   ]
  },
  {
   "cell_type": "code",
   "execution_count": 1,
   "id": "a52c21fd-d5c0-4186-9db0-6c35659b502c",
   "metadata": {},
   "outputs": [],
   "source": [
    "import cv2 as cv\n",
    "import numpy as np\n",
    "\n",
    "image = cv.imread('Building.jpeg')\n",
    "gray_image = cv.cvtColor(image, cv.COLOR_BGR2GRAY)\n",
    "\n",
    "while(1):\n",
    "    #show image\n",
    "    cv.imshow('gray_image', gray_image)\n",
    "    k = cv.waitKey(10) & 0xFF\n",
    "    if k == 27:\n",
    "        break\n",
    "\n",
    "cv.destroyAllWindows()"
   ]
  },
  {
   "cell_type": "code",
   "execution_count": 2,
   "id": "17f4bac0-06a7-4f53-99f6-f114c38cefca",
   "metadata": {},
   "outputs": [],
   "source": [
    "edges = cv.Canny(gray_image, 70, 210)\n",
    "\n",
    "while(1):\n",
    "    #show image\n",
    "    cv.imshow('edges', edges)\n",
    "    k = cv.waitKey(10) & 0xFF\n",
    "    if k == 27:\n",
    "        break\n",
    "\n",
    "cv.destroyAllWindows()"
   ]
  },
  {
   "cell_type": "code",
   "execution_count": 3,
   "id": "6c7504cc-4b90-44d9-b664-2497342dcc4c",
   "metadata": {},
   "outputs": [],
   "source": [
    "# Apply the Hough Transform to detect lines\n",
    "lines = cv.HoughLinesP(edges, 1, np.pi / 180, 10, minLineLength=40, maxLineGap=5)\n",
    "building_image = cv.imread('Building.jpeg')\n",
    "\n",
    "# Draw the detected lines on the image\n",
    "for line in lines:\n",
    "    x1, y1, x2, y2 = line[0]\n",
    "    cv.line(building_image, (x1, y1), (x2, y2), (0, 0, 255), 2)  # Red lines, 2-pixel thickness\n",
    "\n",
    "while(1):\n",
    "    #show image\n",
    "    cv.imshow('building_image', building_image)\n",
    "    k = cv.waitKey(10) & 0xFF\n",
    "    if k == 27:\n",
    "        break\n",
    "\n",
    "cv.destroyAllWindows()\n"
   ]
  },
  {
   "cell_type": "code",
   "execution_count": 59,
   "id": "f05088d5-4237-4c6f-a4cb-bc70dfa8844e",
   "metadata": {},
   "outputs": [],
   "source": [
    "threshold_values = [10, 50, 300]\n",
    "\n",
    "for threshold in threshold_values:\n",
    "    lines = cv.HoughLinesP(edges, 1, np.pi / 180, threshold, minLineLength=40, maxLineGap=5)\n",
    "    image = cv.imread('Building.jpeg')\n",
    "\n",
    "    # Draw the detected lines on the image\n",
    "    for line in lines:\n",
    "        x1, y1, x2, y2 = line[0]\n",
    "        cv.line(image, (x1, y1), (x2, y2), (0, 0, 255), 2)  # Red lines, 2-pixel thickness\n",
    "        \n",
    "    #show image\n",
    "    cv.imshow('image', image)\n",
    "    k = cv.waitKey(0)\n",
    "\n",
    "    cv.destroyAllWindows()"
   ]
  },
  {
   "cell_type": "code",
   "execution_count": 75,
   "id": "3b2a3f38-08b4-4c1e-8791-eab5061976e0",
   "metadata": {},
   "outputs": [],
   "source": [
    "image = cv.imread('Shapes.jpg')\n",
    "gray_image = cv.cvtColor(image, cv.COLOR_BGR2GRAY)\n",
    "circles = cv.HoughCircles(gray_image, cv.HOUGH_GRADIENT, dp=1, minDist=150, param1=50, param2=30, minRadius=30, maxRadius=70)\n",
    "\n",
    "if circles is not None:\n",
    "    circles = np.uint16(np.around(circles))\n",
    "    for circle in circles[0, :]:\n",
    "        center = (circle[0], circle[1])\n",
    "        radius = circle[2]\n",
    "        cv.circle(image, center, radius, (0, 0, 255), 2)\n",
    "\n",
    "#show image\n",
    "cv.imshow('image', image)\n",
    "k = cv.waitKey(0)\n",
    "cv.destroyAllWindows()"
   ]
  },
  {
   "cell_type": "code",
   "execution_count": 4,
   "id": "d6500973-4df4-4a8a-91a9-04d50c7c5abd",
   "metadata": {},
   "outputs": [],
   "source": [
    "minDist_values = [10, 50, 150]\n",
    "maxRadius_values = [50, 70, 100] \n",
    "\n",
    "for minDist_ in minDist_values:\n",
    "    for maxRadius_ in maxRadius_values:\n",
    "        image = cv.imread('Shapes.jpg')\n",
    "        gray_image = cv.cvtColor(image, cv.COLOR_BGR2GRAY)\n",
    "        circles = cv.HoughCircles(gray_image, cv.HOUGH_GRADIENT, dp=1, minDist=minDist_, param1=50, param2=30, minRadius=30, maxRadius=maxRadius_)\n",
    "\n",
    "        if circles is not None:\n",
    "            circles = np.uint16(np.around(circles))\n",
    "            for circle in circles[0, :]:\n",
    "                center = (circle[0], circle[1])\n",
    "                radius = circle[2]\n",
    "                cv.circle(image, center, radius, (0, 0, 255), 2)\n",
    "\n",
    "        #show image\n",
    "        cv.imshow('image', image)\n",
    "        k = cv.waitKey(0)\n",
    "        cv.destroyAllWindows()"
   ]
  },
  {
   "cell_type": "code",
   "execution_count": null,
   "id": "526920f4-882f-42f8-b3da-72d480cab8c4",
   "metadata": {},
   "outputs": [],
   "source": []
  }
 ],
 "metadata": {
  "kernelspec": {
   "display_name": "Python 3 (ipykernel)",
   "language": "python",
   "name": "python3"
  },
  "language_info": {
   "codemirror_mode": {
    "name": "ipython",
    "version": 3
   },
   "file_extension": ".py",
   "mimetype": "text/x-python",
   "name": "python",
   "nbconvert_exporter": "python",
   "pygments_lexer": "ipython3",
   "version": "3.11.4"
  }
 },
 "nbformat": 4,
 "nbformat_minor": 5
}
