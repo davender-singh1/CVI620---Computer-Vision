{
 "cells": [
  {
   "cell_type": "markdown",
   "id": "e84796a5-7fee-4655-91d6-8b64499fdbe9",
   "metadata": {},
   "source": [
    "## Part II: DL-Based Segmentation with Mask R-CNN\n",
    "Completed by: Liliya Panfilova"
   ]
  },
  {
   "cell_type": "code",
   "execution_count": 2,
   "id": "2e1a5244-356c-46d6-a23c-e39e4174b1e7",
   "metadata": {},
   "outputs": [],
   "source": [
    "import cv2 as cv\n",
    "import numpy as np\n",
    "\n",
    "# Load Mask RCNN\n",
    "net = cv.dnn.readNetFromTensorflow(\"frozen_inference_graph_coco.pb\", \"mask_rcnn_inception_v2_coco_2018_01_28.pbtxt\")"
   ]
  },
  {
   "cell_type": "markdown",
   "id": "aa69c046-209e-4c48-abb8-1830fe4ac4ca",
   "metadata": {},
   "source": [
    "### Street Image\n",
    "\n",
    "##### Detecting objects and drawing bounding boxes"
   ]
  },
  {
   "cell_type": "code",
   "execution_count": 27,
   "id": "50821d2d-1e68-4eb7-bb47-960098a5920a",
   "metadata": {},
   "outputs": [
    {
     "name": "stdout",
     "output_type": "stream",
     "text": [
      "Classes detected:  [17.0, 17.0, 0.0, 2.0, 0.0, 2.0, 2.0, 0.0, 2.0]\n"
     ]
    }
   ],
   "source": [
    "# List of classes\n",
    "classes = []\n",
    "\n",
    "# Colors\n",
    "colors = [(0,255,0), (255,0,0), (0,0,255)]\n",
    "\n",
    "street_image = cv.imread('Street.jpg')\n",
    "height, width, _ = street_image.shape\n",
    "\n",
    "# Convert image to blob\n",
    "img_blob = cv.dnn.blobFromImage(street_image, swapRB=True)\n",
    "# Detect object\n",
    "net.setInput(img_blob)\n",
    "\n",
    "# Get boxes and masks from final layer\n",
    "boxes, masks = net.forward([\"detection_out_final\", \"detection_masks\"])\n",
    "detection_count = boxes.shape[2]\n",
    "\n",
    "for i in range(detection_count):\n",
    "    box = boxes[0, 0, i]\n",
    "    class_id = box[1]\n",
    "    score = box[2]\n",
    "    if score < 0.5:\n",
    "        continue\n",
    "    classes.append(class_id)\n",
    "    # Get box Coordinates\n",
    "    x = int(box[3] * width)\n",
    "    y = int(box[4] * height)\n",
    "    x2 = int(box[5] * width)\n",
    "    y2 = int(box[6] * height)\n",
    "    if(class_id == 0):\n",
    "        cv.rectangle(street_image, (x,y), (x2,y2),colors[0],3)\n",
    "    elif(class_id == 2):\n",
    "        cv.rectangle(street_image, (x,y), (x2,y2),colors[1],3)\n",
    "    elif(class_id == 17):\n",
    "        cv.rectangle(street_image, (x,y), (x2,y2),colors[2],3)\n",
    "\n",
    "print(\"Classes detected: \", classes)\n",
    "\n",
    "while(1):\n",
    "    #show image\n",
    "    cv.imshow('image', street_image)\n",
    "    k = cv.waitKey(10) & 0xFF\n",
    "    if k == 27:\n",
    "        break\n",
    "\n",
    "cv.destroyAllWindows()"
   ]
  },
  {
   "cell_type": "markdown",
   "id": "20256696-d156-418e-8c65-36d8bf3f8d9a",
   "metadata": {},
   "source": [
    "##### Segmenting objects using 3 different scores: 0.1, 0.3, 0.5"
   ]
  },
  {
   "cell_type": "code",
   "execution_count": 28,
   "id": "ed912d7e-9386-4303-a77e-2348e916325f",
   "metadata": {},
   "outputs": [
    {
     "name": "stdout",
     "output_type": "stream",
     "text": [
      "Scores:  [0.9995241, 0.9989612, 0.997414, 0.9931378, 0.9909797, 0.98842156, 0.98077023, 0.90739626]\n"
     ]
    }
   ],
   "source": [
    "# Create black image\n",
    "black_image = np.zeros((height, width, 3), np.uint8)\n",
    "scores = []\n",
    "\n",
    "for i in range(detection_count):\n",
    "    box = boxes[0, 0, i]\n",
    "    class_id = box[1]\n",
    "    score = box[2]\n",
    "    \n",
    "    if score < 0.8: # <= change confidence \n",
    "        continue\n",
    "    scores.append(score)\n",
    "    # Get box Coordinates\n",
    "    x = int(box[3] * width)\n",
    "    y = int(box[4] * height)\n",
    "    x2 = int(box[5] * width)\n",
    "    y2 = int(box[6] * height)\n",
    "    roi = black_image[y: y2, x: x2]\n",
    "    roi_height, roi_width, _ = roi.shape\n",
    "    mask = masks[i, int(class_id)]\n",
    "    mask = cv.resize(mask, (roi_width, roi_height))\n",
    "    _, mask = cv.threshold(mask, 0.5, 255, cv.THRESH_BINARY)\n",
    "     # Get mask coordinates\n",
    "    contours, _ = cv.findContours(np.array(mask, np.uint8), cv.RETR_EXTERNAL, cv.CHAIN_APPROX_SIMPLE)\n",
    "    for cnt in contours:\n",
    "        if(class_id == 0):\n",
    "            cv.fillPoly(roi, [cnt], colors[0])\n",
    "        elif(class_id == 2):\n",
    "            cv.fillPoly(roi, [cnt], colors[1])\n",
    "        elif(class_id == 17):\n",
    "            cv.fillPoly(roi, [cnt], colors[2])\n",
    "            \n",
    "print(\"Scores: \", scores)       \n",
    "\n",
    "while(1):\n",
    "    #show image\n",
    "    cv.imshow('Black image', black_image)\n",
    "    k = cv.waitKey(10) & 0xFF\n",
    "    if k == 27:\n",
    "        break\n",
    "\n",
    "cv.destroyAllWindows()"
   ]
  },
  {
   "cell_type": "markdown",
   "id": "8986168b-74e3-47f7-b8ca-d6edff49d343",
   "metadata": {},
   "source": [
    "### Wildlife Image\n",
    "##### Detecting objects and drawing bounding boxes"
   ]
  },
  {
   "cell_type": "code",
   "execution_count": 5,
   "id": "f4c31908-bfdd-4ffd-bad2-189631f2906a",
   "metadata": {},
   "outputs": [
    {
     "name": "stdout",
     "output_type": "stream",
     "text": [
      "Classes detected:  [24.0, 21.0, 23.0, 23.0, 23.0, 21.0, 21.0, 20.0]\n"
     ]
    }
   ],
   "source": [
    "# List of classes\n",
    "classes = []\n",
    "# Colors\n",
    "colors = [(0,255,0), (255,0,0), (0,0,255), (255,255,0)]\n",
    "\n",
    "wildlife_image = cv.imread('WildLife.png')\n",
    "height, width, _ = wildlife_image.shape\n",
    "\n",
    "# Convert image to blob\n",
    "img_blob = cv.dnn.blobFromImage(wildlife_image, swapRB=True)\n",
    "# Detect object\n",
    "net.setInput(img_blob)\n",
    "\n",
    "# Get boxes and masks from final layer\n",
    "boxes, masks = net.forward([\"detection_out_final\", \"detection_masks\"])\n",
    "detection_count = boxes.shape[2]\n",
    "\n",
    "for i in range(detection_count):\n",
    "    box = boxes[0, 0, i]\n",
    "    class_id = box[1]\n",
    "    score = box[2]\n",
    "    if score < 0.8:\n",
    "        continue\n",
    "    classes.append(class_id)\n",
    "    # Get box Coordinates\n",
    "    x = int(box[3] * width)\n",
    "    y = int(box[4] * height)\n",
    "    x2 = int(box[5] * width)\n",
    "    y2 = int(box[6] * height)\n",
    "    if(class_id == 20):\n",
    "        cv.rectangle(wildlife_image, (x,y), (x2,y2),colors[0],3)\n",
    "    elif(class_id == 21):\n",
    "        cv.rectangle(wildlife_image, (x,y), (x2,y2),colors[1],3)\n",
    "    elif(class_id == 23):\n",
    "        cv.rectangle(wildlife_image, (x,y), (x2,y2),colors[2],3)\n",
    "    else:\n",
    "        cv.rectangle(wildlife_image, (x,y), (x2,y2),colors[3],3)\n",
    "        \n",
    "print(\"Classes detected: \", classes)\n",
    "\n",
    "while(1):\n",
    "    #show image\n",
    "    cv.imshow('image', wildlife_image)\n",
    "    k = cv.waitKey(10) & 0xFF\n",
    "    if k == 27:\n",
    "        break\n",
    "\n",
    "cv.destroyAllWindows()"
   ]
  },
  {
   "cell_type": "markdown",
   "id": "23dbdbec-37e3-4b2f-af7a-80b8811a1d38",
   "metadata": {},
   "source": [
    "##### Segmenting objects using 3 different scores: 0.1, 0.3, 0.5"
   ]
  },
  {
   "cell_type": "code",
   "execution_count": 8,
   "id": "cf510083-70b7-4b47-a03f-4d330cb4fb18",
   "metadata": {},
   "outputs": [],
   "source": [
    "# Create black image\n",
    "black_image2 = np.zeros((height, width, 3), np.uint8)\n",
    "\n",
    "for i in range(detection_count):\n",
    "    box = boxes[0, 0, i]\n",
    "    class_id = box[1]\n",
    "    score = box[2]\n",
    "    if score < 0.1: # <= change confidence \n",
    "        continue\n",
    "    # Get box Coordinates\n",
    "    x = int(box[3] * width)\n",
    "    y = int(box[4] * height)\n",
    "    x2 = int(box[5] * width)\n",
    "    y2 = int(box[6] * height)\n",
    "    roi = black_image2[y: y2, x: x2]\n",
    "    roi_height, roi_width, _ = roi.shape\n",
    "    mask = masks[i, int(class_id)]\n",
    "    mask = cv.resize(mask, (roi_width, roi_height))\n",
    "    _, mask = cv.threshold(mask, 0.5, 255, cv.THRESH_BINARY)\n",
    "     # Get mask coordinates\n",
    "    contours, _ = cv.findContours(np.array(mask, np.uint8), cv.RETR_EXTERNAL, cv.CHAIN_APPROX_SIMPLE)\n",
    "    for cnt in contours:\n",
    "        if(class_id == 20):\n",
    "            cv.fillPoly(roi, [cnt], colors[0])\n",
    "        elif(class_id == 21):\n",
    "            cv.fillPoly(roi, [cnt], colors[1])\n",
    "        elif(class_id == 23):\n",
    "            cv.fillPoly(roi, [cnt], colors[2])\n",
    "        else:\n",
    "            cv.fillPoly(roi, [cnt], colors[3])\n",
    "\n",
    "while(1):\n",
    "    #show image\n",
    "    cv.imshow('Black image', black_image2)\n",
    "    k = cv.waitKey(10) & 0xFF\n",
    "    if k == 27:\n",
    "        break\n",
    "\n",
    "cv.destroyAllWindows()"
   ]
  },
  {
   "cell_type": "code",
   "execution_count": null,
   "id": "6b34274d-9122-420a-a4a2-f6f85ded666f",
   "metadata": {},
   "outputs": [],
   "source": []
  }
 ],
 "metadata": {
  "kernelspec": {
   "display_name": "Python 3 (ipykernel)",
   "language": "python",
   "name": "python3"
  },
  "language_info": {
   "codemirror_mode": {
    "name": "ipython",
    "version": 3
   },
   "file_extension": ".py",
   "mimetype": "text/x-python",
   "name": "python",
   "nbconvert_exporter": "python",
   "pygments_lexer": "ipython3",
   "version": "3.11.4"
  }
 },
 "nbformat": 4,
 "nbformat_minor": 5
}
